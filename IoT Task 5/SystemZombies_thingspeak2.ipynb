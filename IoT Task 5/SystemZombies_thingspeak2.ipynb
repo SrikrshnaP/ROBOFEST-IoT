{
 "cells": [
  {
   "cell_type": "code",
   "execution_count": 1,
   "id": "3409e332",
   "metadata": {},
   "outputs": [],
   "source": [
    "import requests\n",
    "import json"
   ]
  },
  {
   "cell_type": "code",
   "execution_count": 2,
   "id": "55b7e56d",
   "metadata": {},
   "outputs": [],
   "source": [
    "val = requests.get(\"https://api.thingspeak.com/channels/1561064/feeds.json?api_key=VZE4NXC2AJIEO6GA&results\")"
   ]
  },
  {
   "cell_type": "code",
   "execution_count": 3,
   "id": "5bf26197",
   "metadata": {},
   "outputs": [
    {
     "name": "stdout",
     "output_type": "stream",
     "text": [
      "<Response [200]>\n"
     ]
    }
   ],
   "source": [
    "print(val)"
   ]
  },
  {
   "cell_type": "code",
   "execution_count": 4,
   "id": "3e2491d1",
   "metadata": {},
   "outputs": [
    {
     "name": "stdout",
     "output_type": "stream",
     "text": [
      "{\"channel\":{\"id\":1561064,\"name\":\"SystemZombies\",\"latitude\":\"0.0\",\"longitude\":\"0.0\",\"field1\":\"Humidity\",\"field2\":\"Temperature\",\"field3\":\"AQI\",\"created_at\":\"2021-11-05T17:32:31Z\",\"updated_at\":\"2021-11-05T17:32:32Z\",\"last_entry_id\":6},\"feeds\":[{\"created_at\":\"2021-11-05T17:33:26Z\",\"entry_id\":1,\"field1\":\"45\",\"field2\":null,\"field3\":null},{\"created_at\":\"2021-11-05T18:00:18Z\",\"entry_id\":2,\"field1\":\"45\",\"field2\":null,\"field3\":null},{\"created_at\":\"2021-11-05T18:01:25Z\",\"entry_id\":3,\"field1\":null,\"field2\":null,\"field3\":null},{\"created_at\":\"2021-11-05T18:01:45Z\",\"entry_id\":4,\"field1\":null,\"field2\":null,\"field3\":\"63\"},{\"created_at\":\"2021-11-05T18:02:08Z\",\"entry_id\":5,\"field1\":null,\"field2\":null,\"field3\":null},{\"created_at\":\"2021-11-06T06:10:41Z\",\"entry_id\":6,\"field1\":\"45\",\"field2\":null,\"field3\":null}]}\n"
     ]
    }
   ],
   "source": [
    "print(val.text)"
   ]
  },
  {
   "cell_type": "code",
   "execution_count": 5,
   "id": "10432168",
   "metadata": {},
   "outputs": [],
   "source": [
    "val = val.text"
   ]
  },
  {
   "cell_type": "code",
   "execution_count": 6,
   "id": "fd45b551",
   "metadata": {},
   "outputs": [],
   "source": [
    "val=(json.loads(val))"
   ]
  },
  {
   "cell_type": "code",
   "execution_count": 7,
   "id": "ede0de89",
   "metadata": {},
   "outputs": [
    {
     "name": "stdout",
     "output_type": "stream",
     "text": [
      "After JSON Parsing\n",
      "{'channel': {'id': 1561064, 'name': 'SystemZombies', 'latitude': '0.0', 'longitude': '0.0', 'field1': 'Humidity', 'field2': 'Temperature', 'field3': 'AQI', 'created_at': '2021-11-05T17:32:31Z', 'updated_at': '2021-11-05T17:32:32Z', 'last_entry_id': 6}, 'feeds': [{'created_at': '2021-11-05T17:33:26Z', 'entry_id': 1, 'field1': '45', 'field2': None, 'field3': None}, {'created_at': '2021-11-05T18:00:18Z', 'entry_id': 2, 'field1': '45', 'field2': None, 'field3': None}, {'created_at': '2021-11-05T18:01:25Z', 'entry_id': 3, 'field1': None, 'field2': None, 'field3': None}, {'created_at': '2021-11-05T18:01:45Z', 'entry_id': 4, 'field1': None, 'field2': None, 'field3': '63'}, {'created_at': '2021-11-05T18:02:08Z', 'entry_id': 5, 'field1': None, 'field2': None, 'field3': None}, {'created_at': '2021-11-06T06:10:41Z', 'entry_id': 6, 'field1': '45', 'field2': None, 'field3': None}]}\n"
     ]
    }
   ],
   "source": [
    "print(\"After JSON Parsing\")\n",
    "print(val)"
   ]
  },
  {
   "cell_type": "code",
   "execution_count": null,
   "id": "4cc64ba6",
   "metadata": {},
   "outputs": [],
   "source": []
  }
 ],
 "metadata": {
  "kernelspec": {
   "display_name": "Python 3 (ipykernel)",
   "language": "python",
   "name": "python3"
  },
  "language_info": {
   "codemirror_mode": {
    "name": "ipython",
    "version": 3
   },
   "file_extension": ".py",
   "mimetype": "text/x-python",
   "name": "python",
   "nbconvert_exporter": "python",
   "pygments_lexer": "ipython3",
   "version": "3.8.5"
  }
 },
 "nbformat": 4,
 "nbformat_minor": 5
}
