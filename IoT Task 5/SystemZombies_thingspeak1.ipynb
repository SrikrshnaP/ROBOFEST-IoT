{
 "cells": [
  {
   "cell_type": "code",
   "execution_count": 1,
   "id": "d039f4f0",
   "metadata": {},
   "outputs": [],
   "source": [
    "import requests"
   ]
  },
  {
   "cell_type": "code",
   "execution_count": 2,
   "id": "36d1de0a",
   "metadata": {},
   "outputs": [
    {
     "name": "stdout",
     "output_type": "stream",
     "text": [
      "Enter the Humidity - 45\n",
      "Sending the Humidity Value as  45 %\n"
     ]
    }
   ],
   "source": [
    "hum = input(\"Enter the Humidity - \")\n",
    "print(\"Sending the Humidity Value as \",hum,\"%\")\n",
    "req1 = \"https://api.thingspeak.com/update?api_key=NS3Q0RCO5P2CEYXM&field1=\"+hum\n",
    "humidity_val = requests.get(req1)"
   ]
  },
  {
   "cell_type": "code",
   "execution_count": 3,
   "id": "a89725e1",
   "metadata": {},
   "outputs": [
    {
     "name": "stdout",
     "output_type": "stream",
     "text": [
      "200\n"
     ]
    }
   ],
   "source": [
    "print(humidity_val.status_code)"
   ]
  },
  {
   "cell_type": "code",
   "execution_count": 8,
   "id": "f3f5634d",
   "metadata": {},
   "outputs": [
    {
     "name": "stdout",
     "output_type": "stream",
     "text": [
      "Enter the Temperature - 23\n",
      "Sending the Temperature Value as  23 C\n"
     ]
    }
   ],
   "source": [
    "temp = input(\"Enter the Temperature - \")\n",
    "print(\"Sending the Temperature Value as \", temp,\"C\")\n",
    "req2 = \"https://api.thingspeak.com/update?api_key=NS3Q0RCO5P2CEYXM&field2=\"+temp\n",
    "val_temp = requests.get(req2)"
   ]
  },
  {
   "cell_type": "code",
   "execution_count": 9,
   "id": "f6d4e4e8",
   "metadata": {},
   "outputs": [
    {
     "name": "stdout",
     "output_type": "stream",
     "text": [
      "200\n"
     ]
    }
   ],
   "source": [
    "print(val_temp.status_code)"
   ]
  },
  {
   "cell_type": "code",
   "execution_count": 6,
   "id": "990c1beb",
   "metadata": {},
   "outputs": [
    {
     "name": "stdout",
     "output_type": "stream",
     "text": [
      "Enter the AQI - 63\n",
      "Sending the AQI Value as  63  ppm\n"
     ]
    }
   ],
   "source": [
    "aqi = input(\"Enter the AQI - \")\n",
    "print(\"Sending the AQI Value as \",aqi,\" ppm\")\n",
    "req3 = \"https://api.thingspeak.com/update?api_key=NS3Q0RCO5P2CEYXM&field3=\"+aqi\n",
    "val_aqi = requests.get(req3)"
   ]
  },
  {
   "cell_type": "code",
   "execution_count": 7,
   "id": "65a6229f",
   "metadata": {},
   "outputs": [
    {
     "name": "stdout",
     "output_type": "stream",
     "text": [
      "200\n"
     ]
    }
   ],
   "source": [
    "print(val_aqi.status_code)"
   ]
  },
  {
   "cell_type": "code",
   "execution_count": null,
   "id": "3cc42a54",
   "metadata": {},
   "outputs": [],
   "source": []
  }
 ],
 "metadata": {
  "kernelspec": {
   "display_name": "Python 3 (ipykernel)",
   "language": "python",
   "name": "python3"
  },
  "language_info": {
   "codemirror_mode": {
    "name": "ipython",
    "version": 3
   },
   "file_extension": ".py",
   "mimetype": "text/x-python",
   "name": "python",
   "nbconvert_exporter": "python",
   "pygments_lexer": "ipython3",
   "version": "3.8.5"
  }
 },
 "nbformat": 4,
 "nbformat_minor": 5
}
