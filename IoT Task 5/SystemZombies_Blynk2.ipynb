{
 "cells": [
  {
   "cell_type": "code",
   "execution_count": 1,
   "id": "d2438846",
   "metadata": {},
   "outputs": [],
   "source": [
    "import requests\n",
    "import json"
   ]
  },
  {
   "cell_type": "code",
   "execution_count": 2,
   "id": "354bb569",
   "metadata": {},
   "outputs": [],
   "source": [
    "val = requests.get(\"https://blynk.cloud/external/api/get?token=UGQujfcufoFPLYd6t7nUn5uyimoyFHuv&v0&v1&v2\")"
   ]
  },
  {
   "cell_type": "code",
   "execution_count": 3,
   "id": "ba04493f",
   "metadata": {},
   "outputs": [
    {
     "name": "stdout",
     "output_type": "stream",
     "text": [
      "<Response [200]>\n"
     ]
    }
   ],
   "source": [
    "print(val)"
   ]
  },
  {
   "cell_type": "code",
   "execution_count": 4,
   "id": "0183f04c",
   "metadata": {},
   "outputs": [
    {
     "name": "stdout",
     "output_type": "stream",
     "text": [
      "{\"v0\":46.0,\"v1\":24.0,\"v2\":64.0}\n"
     ]
    }
   ],
   "source": [
    "print(val.text)\n",
    "val = val.text"
   ]
  },
  {
   "cell_type": "code",
   "execution_count": 5,
   "id": "36f8e202",
   "metadata": {},
   "outputs": [],
   "source": [
    "print(\"After JSON Parsing - \")\n",
    "val=(json.loads(val))"
   ]
  },
  {
   "cell_type": "code",
   "execution_count": 6,
   "id": "a0f45c02",
   "metadata": {},
   "outputs": [
    {
     "name": "stdout",
     "output_type": "stream",
     "text": [
      "{'v0': 46.0, 'v1': 24.0, 'v2': 64.0}\n"
     ]
    }
   ],
   "source": [
    "print(val)"
   ]
  },
  {
   "cell_type": "code",
   "execution_count": null,
   "id": "b8d6e8f2",
   "metadata": {},
   "outputs": [],
   "source": []
  }
 ],
 "metadata": {
  "kernelspec": {
   "display_name": "Python 3 (ipykernel)",
   "language": "python",
   "name": "python3"
  },
  "language_info": {
   "codemirror_mode": {
    "name": "ipython",
    "version": 3
   },
   "file_extension": ".py",
   "mimetype": "text/x-python",
   "name": "python",
   "nbconvert_exporter": "python",
   "pygments_lexer": "ipython3",
   "version": "3.8.5"
  }
 },
 "nbformat": 4,
 "nbformat_minor": 5
}
