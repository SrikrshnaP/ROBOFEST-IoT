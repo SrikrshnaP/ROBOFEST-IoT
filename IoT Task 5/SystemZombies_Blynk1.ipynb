{
 "cells": [
  {
   "cell_type": "code",
   "execution_count": 1,
   "id": "5502cb90",
   "metadata": {},
   "outputs": [],
   "source": [
    "import requests"
   ]
  },
  {
   "cell_type": "code",
   "execution_count": 2,
   "id": "1d002b5e",
   "metadata": {},
   "outputs": [
    {
     "name": "stdout",
     "output_type": "stream",
     "text": [
      "Enter the Humidity - 46\n",
      "Sending the Humidity Value as  46 %\n"
     ]
    }
   ],
   "source": [
    "hum = input(\"Enter the Humidity - \")\n",
    "print(\"Sending the Humidity Value as \",hum,\"%\")\n",
    "req1 = \"https://blynk.cloud/external/api/update?token=UGQujfcufoFPLYd6t7nUn5uyimoyFHuv&v0=\"+hum\n",
    "humidity_val = requests.get(req1)"
   ]
  },
  {
   "cell_type": "code",
   "execution_count": 3,
   "id": "293712d4",
   "metadata": {},
   "outputs": [
    {
     "name": "stdout",
     "output_type": "stream",
     "text": [
      "200\n"
     ]
    }
   ],
   "source": [
    "print(humidity_val.status_code)"
   ]
  },
  {
   "cell_type": "code",
   "execution_count": 4,
   "id": "97c8bd6d",
   "metadata": {},
   "outputs": [
    {
     "name": "stdout",
     "output_type": "stream",
     "text": [
      "Enter the Temperature - 24\n",
      "Sending the Temperature Value as  24 C\n"
     ]
    }
   ],
   "source": [
    "temp = input(\"Enter the Temperature - \")\n",
    "print(\"Sending the Temperature Value as \", temp,\"C\")\n",
    "req2 = \"https://blynk.cloud/external/api/update?token=UGQujfcufoFPLYd6t7nUn5uyimoyFHuv&v1=\"+temp\n",
    "val_temp = requests.get(req2)"
   ]
  },
  {
   "cell_type": "code",
   "execution_count": 5,
   "id": "e1eebc52",
   "metadata": {},
   "outputs": [
    {
     "name": "stdout",
     "output_type": "stream",
     "text": [
      "200\n"
     ]
    }
   ],
   "source": [
    "print(val_temp.status_code)"
   ]
  },
  {
   "cell_type": "code",
   "execution_count": 6,
   "id": "ee506f78",
   "metadata": {},
   "outputs": [
    {
     "name": "stdout",
     "output_type": "stream",
     "text": [
      "Enter the AQI - 64\n",
      "Sending the AQI Value as  64  ppm\n"
     ]
    }
   ],
   "source": [
    "aqi = input(\"Enter the AQI - \")\n",
    "print(\"Sending the AQI Value as \",aqi,\" ppm\")\n",
    "req3 = \"https://blynk.cloud/external/api/update?token=UGQujfcufoFPLYd6t7nUn5uyimoyFHuv&v2=\"+aqi\n",
    "val_aqi = requests.get(req3)"
   ]
  },
  {
   "cell_type": "code",
   "execution_count": 7,
   "id": "845f4fa1",
   "metadata": {},
   "outputs": [
    {
     "name": "stdout",
     "output_type": "stream",
     "text": [
      "200\n"
     ]
    }
   ],
   "source": [
    "print(val_aqi.status_code)"
   ]
  },
  {
   "cell_type": "code",
   "execution_count": null,
   "id": "7265fd7b",
   "metadata": {},
   "outputs": [],
   "source": []
  }
 ],
 "metadata": {
  "kernelspec": {
   "display_name": "Python 3 (ipykernel)",
   "language": "python",
   "name": "python3"
  },
  "language_info": {
   "codemirror_mode": {
    "name": "ipython",
    "version": 3
   },
   "file_extension": ".py",
   "mimetype": "text/x-python",
   "name": "python",
   "nbconvert_exporter": "python",
   "pygments_lexer": "ipython3",
   "version": "3.8.5"
  }
 },
 "nbformat": 4,
 "nbformat_minor": 5
}
