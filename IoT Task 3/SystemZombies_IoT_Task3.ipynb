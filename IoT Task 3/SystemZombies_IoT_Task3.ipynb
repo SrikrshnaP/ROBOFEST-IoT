{
 "cells": [
  {
   "cell_type": "code",
   "execution_count": 1,
   "id": "f0a120cb",
   "metadata": {},
   "outputs": [],
   "source": [
    "import requests\n",
    "import json"
   ]
  },
  {
   "cell_type": "code",
   "execution_count": 2,
   "id": "24cbf496",
   "metadata": {},
   "outputs": [],
   "source": [
    "#https://systemzombies-93d8a-default-rtdb.firebaseio.com/\n",
    "url1 = \"https://systemzombies-93d8a-default-rtdb.firebaseio.com/Device 1/AQI.json\"\n",
    "url2 = \"https://systemzombies-93d8a-default-rtdb.firebaseio.com/Device 2/Humidity(%).json\"\n",
    "url3 = \"https://systemzombies-93d8a-default-rtdb.firebaseio.com/Device 3/Temperature(C).json\""
   ]
  },
  {
   "cell_type": "code",
   "execution_count": 3,
   "id": "2f16d740",
   "metadata": {},
   "outputs": [],
   "source": [
    "querystring = {\"auth\":\"6OdMTAoYCW4gzMxJVJtiSFLdEzyKqMMKMZxtKYqt\"}"
   ]
  },
  {
   "cell_type": "code",
   "execution_count": 4,
   "id": "667439e9",
   "metadata": {},
   "outputs": [],
   "source": [
    "response1 = requests.request(\"GET\", url1, params=querystring)\n",
    "response2 = requests.request(\"GET\", url2, params=querystring)\n",
    "response3 = requests.request(\"GET\", url3, params=querystring)"
   ]
  },
  {
   "cell_type": "code",
   "execution_count": 5,
   "id": "57669aa6",
   "metadata": {},
   "outputs": [],
   "source": [
    "line1 = json.loads(response1.text)\n",
    "line2 = json.loads(response2.text)\n",
    "line3 = json.loads(response3.text)"
   ]
  },
  {
   "cell_type": "code",
   "execution_count": 6,
   "id": "a8635d89",
   "metadata": {},
   "outputs": [
    {
     "name": "stdout",
     "output_type": "stream",
     "text": [
      "Air Quality Index -  63\n",
      "Humidity -  45 %\n",
      "Temperature -  23 C\n"
     ]
    }
   ],
   "source": [
    "print(\"Air Quality Index - \", line1)\n",
    "print(\"Humidity - \",line2,\"%\")\n",
    "print(\"Temperature - \", line3, \"C\")"
   ]
  },
  {
   "cell_type": "code",
   "execution_count": null,
   "id": "f396e98f",
   "metadata": {},
   "outputs": [],
   "source": []
  }
 ],
 "metadata": {
  "kernelspec": {
   "display_name": "Python 3 (ipykernel)",
   "language": "python",
   "name": "python3"
  },
  "language_info": {
   "codemirror_mode": {
    "name": "ipython",
    "version": 3
   },
   "file_extension": ".py",
   "mimetype": "text/x-python",
   "name": "python",
   "nbconvert_exporter": "python",
   "pygments_lexer": "ipython3",
   "version": "3.8.5"
  }
 },
 "nbformat": 4,
 "nbformat_minor": 5
}
